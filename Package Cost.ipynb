{
 "cells": [
  {
   "cell_type": "code",
   "execution_count": 1,
   "id": "a4228094",
   "metadata": {},
   "outputs": [],
   "source": [
    "import pandas as pd\n",
    "import numpy as np\n",
    "import matplotlib.pyplot as plt"
   ]
  },
  {
   "cell_type": "code",
   "execution_count": 2,
   "id": "83e93e1c",
   "metadata": {},
   "outputs": [
    {
     "name": "stdout",
     "output_type": "stream",
     "text": [
      "Package ID: 1, Cost: $26.00\n",
      "Package ID: 2, Cost: $25.00\n",
      "Package ID: 3, Cost: $19.00\n",
      "Package ID: 4, Cost: $21.50\n",
      "Package ID: 5, Cost: $48.00\n"
     ]
    }
   ],
   "source": [
    "# Define the sample data\n",
    "data = [\n",
    "    {'Package ID': 1, 'Weight (kg)': 3, 'Distance (km)': 10, 'Delivery Type': 'Express'},\n",
    "    {'Package ID': 2, 'Weight (kg)': 5, 'Distance (km)': 25, 'Delivery Type': 'Standard'},\n",
    "    {'Package ID': 3, 'Weight (kg)': 2, 'Distance (km)': 5, 'Delivery Type': 'Express'},\n",
    "    {'Package ID': 4, 'Weight (kg)': 6, 'Distance (km)': 15, 'Delivery Type': 'Standard'},\n",
    "    {'Package ID': 5, 'Weight (kg)': 4, 'Distance (km)': 30, 'Delivery Type': 'Express'},\n",
    "]\n",
    "\n",
    "# Define the cost grid\n",
    "cost_grid = {\n",
    "    'Express': {\n",
    "        'Base Cost': 10,\n",
    "        'Cost per kg': 2,\n",
    "        'Cost per km': 1,\n",
    "    },\n",
    "    'Standard': {\n",
    "        'Base Cost': 5,\n",
    "        'Cost per kg': 1.5,\n",
    "        'Cost per km': 0.5,\n",
    "    }\n",
    "}\n",
    "\n",
    "# Function to calculate the cost for a single package\n",
    "def calculate_package_cost(package):\n",
    "    delivery_type = package['Delivery Type']\n",
    "    base_cost = cost_grid[delivery_type]['Base Cost']\n",
    "    cost_per_kg = cost_grid[delivery_type]['Cost per kg']\n",
    "    cost_per_km = cost_grid[delivery_type]['Cost per km']\n",
    "    weight = package['Weight (kg)']\n",
    "    distance = package['Distance (km)']\n",
    "    total_cost = base_cost + (cost_per_kg * weight) + (cost_per_km * distance)\n",
    "    return total_cost\n",
    "\n",
    "# Calculate the cost for each package in the dataset\n",
    "package_costs = []\n",
    "for package in data:\n",
    "    cost = calculate_package_cost(package)\n",
    "    package_costs.append({'Package ID': package['Package ID'], 'Cost': cost})\n",
    "\n",
    "# Display the calculated costs\n",
    "for package_cost in package_costs:\n",
    "    print(f\"Package ID: {package_cost['Package ID']}, Cost: ${package_cost['Cost']:.2f}\")\n",
    "\n",
    "# Save the output as requested\n",
    "with open('package_costs.txt', 'w') as output_file:\n",
    "    for package_cost in package_costs:\n",
    "        output_file.write(f\"Package ID: {package_cost['Package ID']}, Cost: ${package_cost['Cost']:.2f}\\n\")\n"
   ]
  },
  {
   "cell_type": "code",
   "execution_count": null,
   "id": "8ebaf7ed",
   "metadata": {},
   "outputs": [],
   "source": []
  }
 ],
 "metadata": {
  "kernelspec": {
   "display_name": "Python 3 (ipykernel)",
   "language": "python",
   "name": "python3"
  },
  "language_info": {
   "codemirror_mode": {
    "name": "ipython",
    "version": 3
   },
   "file_extension": ".py",
   "mimetype": "text/x-python",
   "name": "python",
   "nbconvert_exporter": "python",
   "pygments_lexer": "ipython3",
   "version": "3.9.12"
  }
 },
 "nbformat": 4,
 "nbformat_minor": 5
}
